{
 "cells": [
  {
   "cell_type": "markdown",
   "metadata": {},
   "source": [
    "# Introduction\n",
    "\n",
    "---\n",
    "\n",
    "This notebook focuses on analyzing Sustainable Development Goal (SDG) Indicator 4.1.1, which measures the proportion of children and young people (a) in grades 2/3; (b) at the end of primary; and (c) at the end of lower secondary achieving at least a minimum proficiency level in (i) reading and (ii) mathematics, by sex \n",
    "\n",
    "\n",
    "Author: <br>\n",
    "Abel Apriliani <br>\n",
    "SnakeBros<br>"
   ]
  },
  {
   "cell_type": "code",
   "execution_count": 16,
   "metadata": {},
   "outputs": [],
   "source": [
    "import pandas as pd"
   ]
  },
  {
   "cell_type": "code",
   "execution_count": 17,
   "metadata": {},
   "outputs": [],
   "source": [
    "data_411 = pd.read_excel(\"../datasets/4.1.1.xlsx\")"
   ]
  },
  {
   "cell_type": "code",
   "execution_count": 18,
   "metadata": {},
   "outputs": [
    {
     "data": {
      "text/html": [
       "<div>\n",
       "<style scoped>\n",
       "    .dataframe tbody tr th:only-of-type {\n",
       "        vertical-align: middle;\n",
       "    }\n",
       "\n",
       "    .dataframe tbody tr th {\n",
       "        vertical-align: top;\n",
       "    }\n",
       "\n",
       "    .dataframe thead th {\n",
       "        text-align: right;\n",
       "    }\n",
       "</style>\n",
       "<table border=\"1\" class=\"dataframe\">\n",
       "  <thead>\n",
       "    <tr style=\"text-align: right;\">\n",
       "      <th></th>\n",
       "      <th>Goal</th>\n",
       "      <th>Target</th>\n",
       "      <th>Indicator</th>\n",
       "      <th>SeriesCode</th>\n",
       "      <th>SeriesDescription</th>\n",
       "      <th>GeoAreaCode</th>\n",
       "      <th>GeoAreaName</th>\n",
       "      <th>TimePeriod</th>\n",
       "      <th>Value</th>\n",
       "      <th>Time_Detail</th>\n",
       "      <th>...</th>\n",
       "      <th>BasePeriod</th>\n",
       "      <th>Source</th>\n",
       "      <th>GeoInfoUrl</th>\n",
       "      <th>FootNote</th>\n",
       "      <th>Education level</th>\n",
       "      <th>Nature</th>\n",
       "      <th>Reporting Type</th>\n",
       "      <th>Sex</th>\n",
       "      <th>Type of skill</th>\n",
       "      <th>Units</th>\n",
       "    </tr>\n",
       "  </thead>\n",
       "  <tbody>\n",
       "    <tr>\n",
       "      <th>0</th>\n",
       "      <td>4</td>\n",
       "      <td>4.1</td>\n",
       "      <td>4.1.1</td>\n",
       "      <td>SE_TOT_PRFL</td>\n",
       "      <td>Proportion of children and young people achiev...</td>\n",
       "      <td>1</td>\n",
       "      <td>World</td>\n",
       "      <td>2000</td>\n",
       "      <td>48.97526</td>\n",
       "      <td>2000</td>\n",
       "      <td>...</td>\n",
       "      <td>NaN</td>\n",
       "      <td>UNESCO Institute for Statistics.  Data extract...</td>\n",
       "      <td>NaN</td>\n",
       "      <td>NaN</td>\n",
       "      <td>PRIMAR</td>\n",
       "      <td>N</td>\n",
       "      <td>G</td>\n",
       "      <td>BOTHSEX</td>\n",
       "      <td>SKILL_MATH</td>\n",
       "      <td>PERCENT</td>\n",
       "    </tr>\n",
       "    <tr>\n",
       "      <th>1</th>\n",
       "      <td>4</td>\n",
       "      <td>4.1</td>\n",
       "      <td>4.1.1</td>\n",
       "      <td>SE_TOT_PRFL</td>\n",
       "      <td>Proportion of children and young people achiev...</td>\n",
       "      <td>1</td>\n",
       "      <td>World</td>\n",
       "      <td>2000</td>\n",
       "      <td>47.31352</td>\n",
       "      <td>2000</td>\n",
       "      <td>...</td>\n",
       "      <td>NaN</td>\n",
       "      <td>UNESCO Institute for Statistics.  Data extract...</td>\n",
       "      <td>NaN</td>\n",
       "      <td>NaN</td>\n",
       "      <td>LOWSEC</td>\n",
       "      <td>N</td>\n",
       "      <td>G</td>\n",
       "      <td>BOTHSEX</td>\n",
       "      <td>SKILL_MATH</td>\n",
       "      <td>PERCENT</td>\n",
       "    </tr>\n",
       "    <tr>\n",
       "      <th>2</th>\n",
       "      <td>4</td>\n",
       "      <td>4.1</td>\n",
       "      <td>4.1.1</td>\n",
       "      <td>SE_TOT_PRFL</td>\n",
       "      <td>Proportion of children and young people achiev...</td>\n",
       "      <td>1</td>\n",
       "      <td>World</td>\n",
       "      <td>2000</td>\n",
       "      <td>62.31563</td>\n",
       "      <td>2000</td>\n",
       "      <td>...</td>\n",
       "      <td>NaN</td>\n",
       "      <td>UNESCO Institute for Statistics.  Data extract...</td>\n",
       "      <td>NaN</td>\n",
       "      <td>NaN</td>\n",
       "      <td>LOWSEC</td>\n",
       "      <td>N</td>\n",
       "      <td>G</td>\n",
       "      <td>BOTHSEX</td>\n",
       "      <td>SKILL_READ</td>\n",
       "      <td>PERCENT</td>\n",
       "    </tr>\n",
       "    <tr>\n",
       "      <th>3</th>\n",
       "      <td>4</td>\n",
       "      <td>4.1</td>\n",
       "      <td>4.1.1</td>\n",
       "      <td>SE_TOT_PRFL</td>\n",
       "      <td>Proportion of children and young people achiev...</td>\n",
       "      <td>1</td>\n",
       "      <td>World</td>\n",
       "      <td>2000</td>\n",
       "      <td>61.21205</td>\n",
       "      <td>2000</td>\n",
       "      <td>...</td>\n",
       "      <td>NaN</td>\n",
       "      <td>UNESCO Institute for Statistics.  Data extract...</td>\n",
       "      <td>NaN</td>\n",
       "      <td>NaN</td>\n",
       "      <td>PRIMAR</td>\n",
       "      <td>N</td>\n",
       "      <td>G</td>\n",
       "      <td>BOTHSEX</td>\n",
       "      <td>SKILL_READ</td>\n",
       "      <td>PERCENT</td>\n",
       "    </tr>\n",
       "    <tr>\n",
       "      <th>4</th>\n",
       "      <td>4</td>\n",
       "      <td>4.1</td>\n",
       "      <td>4.1.1</td>\n",
       "      <td>SE_TOT_PRFL</td>\n",
       "      <td>Proportion of children and young people achiev...</td>\n",
       "      <td>1</td>\n",
       "      <td>World</td>\n",
       "      <td>2001</td>\n",
       "      <td>47.49661</td>\n",
       "      <td>2001</td>\n",
       "      <td>...</td>\n",
       "      <td>NaN</td>\n",
       "      <td>UNESCO Institute for Statistics.  Data extract...</td>\n",
       "      <td>NaN</td>\n",
       "      <td>NaN</td>\n",
       "      <td>LOWSEC</td>\n",
       "      <td>N</td>\n",
       "      <td>G</td>\n",
       "      <td>BOTHSEX</td>\n",
       "      <td>SKILL_MATH</td>\n",
       "      <td>PERCENT</td>\n",
       "    </tr>\n",
       "  </tbody>\n",
       "</table>\n",
       "<p>5 rows × 23 columns</p>\n",
       "</div>"
      ],
      "text/plain": [
       "   Goal  Target Indicator   SeriesCode  \\\n",
       "0     4     4.1     4.1.1  SE_TOT_PRFL   \n",
       "1     4     4.1     4.1.1  SE_TOT_PRFL   \n",
       "2     4     4.1     4.1.1  SE_TOT_PRFL   \n",
       "3     4     4.1     4.1.1  SE_TOT_PRFL   \n",
       "4     4     4.1     4.1.1  SE_TOT_PRFL   \n",
       "\n",
       "                                   SeriesDescription  GeoAreaCode GeoAreaName  \\\n",
       "0  Proportion of children and young people achiev...            1       World   \n",
       "1  Proportion of children and young people achiev...            1       World   \n",
       "2  Proportion of children and young people achiev...            1       World   \n",
       "3  Proportion of children and young people achiev...            1       World   \n",
       "4  Proportion of children and young people achiev...            1       World   \n",
       "\n",
       "   TimePeriod     Value  Time_Detail  ...  BasePeriod  \\\n",
       "0        2000  48.97526         2000  ...         NaN   \n",
       "1        2000  47.31352         2000  ...         NaN   \n",
       "2        2000  62.31563         2000  ...         NaN   \n",
       "3        2000  61.21205         2000  ...         NaN   \n",
       "4        2001  47.49661         2001  ...         NaN   \n",
       "\n",
       "                                              Source  GeoInfoUrl  FootNote  \\\n",
       "0  UNESCO Institute for Statistics.  Data extract...         NaN       NaN   \n",
       "1  UNESCO Institute for Statistics.  Data extract...         NaN       NaN   \n",
       "2  UNESCO Institute for Statistics.  Data extract...         NaN       NaN   \n",
       "3  UNESCO Institute for Statistics.  Data extract...         NaN       NaN   \n",
       "4  UNESCO Institute for Statistics.  Data extract...         NaN       NaN   \n",
       "\n",
       "  Education level  Nature  Reporting Type      Sex Type of skill    Units  \n",
       "0          PRIMAR       N               G  BOTHSEX    SKILL_MATH  PERCENT  \n",
       "1          LOWSEC       N               G  BOTHSEX    SKILL_MATH  PERCENT  \n",
       "2          LOWSEC       N               G  BOTHSEX    SKILL_READ  PERCENT  \n",
       "3          PRIMAR       N               G  BOTHSEX    SKILL_READ  PERCENT  \n",
       "4          LOWSEC       N               G  BOTHSEX    SKILL_MATH  PERCENT  \n",
       "\n",
       "[5 rows x 23 columns]"
      ]
     },
     "execution_count": 18,
     "metadata": {},
     "output_type": "execute_result"
    }
   ],
   "source": [
    "data_411.head()"
   ]
  },
  {
   "cell_type": "code",
   "execution_count": 19,
   "metadata": {},
   "outputs": [
    {
     "name": "stdout",
     "output_type": "stream",
     "text": [
      "<class 'pandas.core.frame.DataFrame'>\n",
      "RangeIndex: 5558 entries, 0 to 5557\n",
      "Data columns (total 23 columns):\n",
      " #   Column             Non-Null Count  Dtype  \n",
      "---  ------             --------------  -----  \n",
      " 0   Goal               5558 non-null   int64  \n",
      " 1   Target             5558 non-null   float64\n",
      " 2   Indicator          5558 non-null   object \n",
      " 3   SeriesCode         5558 non-null   object \n",
      " 4   SeriesDescription  5558 non-null   object \n",
      " 5   GeoAreaCode        5558 non-null   int64  \n",
      " 6   GeoAreaName        5558 non-null   object \n",
      " 7   TimePeriod         5558 non-null   int64  \n",
      " 8   Value              5558 non-null   float64\n",
      " 9   Time_Detail        5558 non-null   int64  \n",
      " 10  TimeCoverage       0 non-null      float64\n",
      " 11  UpperBound         0 non-null      float64\n",
      " 12  LowerBound         0 non-null      float64\n",
      " 13  BasePeriod         0 non-null      float64\n",
      " 14  Source             5558 non-null   object \n",
      " 15  GeoInfoUrl         0 non-null      float64\n",
      " 16  FootNote           0 non-null      float64\n",
      " 17  Education level    5558 non-null   object \n",
      " 18  Nature             5558 non-null   object \n",
      " 19  Reporting Type     5558 non-null   object \n",
      " 20  Sex                5558 non-null   object \n",
      " 21  Type of skill      5558 non-null   object \n",
      " 22  Units              5558 non-null   object \n",
      "dtypes: float64(8), int64(4), object(11)\n",
      "memory usage: 998.8+ KB\n"
     ]
    }
   ],
   "source": [
    "data_411.info()"
   ]
  },
  {
   "cell_type": "code",
   "execution_count": 20,
   "metadata": {},
   "outputs": [
    {
     "data": {
      "text/plain": [
       "Goal                    1\n",
       "Target                  1\n",
       "Indicator               1\n",
       "SeriesCode              1\n",
       "SeriesDescription       1\n",
       "GeoAreaCode           143\n",
       "GeoAreaName           143\n",
       "TimePeriod             23\n",
       "Value                5182\n",
       "Time_Detail            23\n",
       "TimeCoverage            0\n",
       "UpperBound              0\n",
       "LowerBound              0\n",
       "BasePeriod              0\n",
       "Source                 30\n",
       "GeoInfoUrl              0\n",
       "FootNote                0\n",
       "Education level         3\n",
       "Nature                  2\n",
       "Reporting Type          1\n",
       "Sex                     3\n",
       "Type of skill           2\n",
       "Units                   1\n",
       "dtype: int64"
      ]
     },
     "execution_count": 20,
     "metadata": {},
     "output_type": "execute_result"
    }
   ],
   "source": [
    "# check the number of unique values in each column\n",
    "data_411.nunique()"
   ]
  },
  {
   "cell_type": "code",
   "execution_count": 21,
   "metadata": {},
   "outputs": [],
   "source": [
    "# drop irrelevant columnsS\n",
    "irrelevant_col = [\n",
    "    \"Goal\", \"Target\", \"Indicator\", \"SeriesCode\", \"SeriesDescription\",\n",
    "    \"TimeCoverage\", \"UpperBound\", \"LowerBound\", \"BasePeriod\",\n",
    "    \"GeoInfoUrl\", \"FootNote\", \"Nature\", \"Reporting Type\", \"Units\", \n",
    "                  ]\n",
    "data_411.drop(columns=irrelevant_col, inplace=True)"
   ]
  },
  {
   "cell_type": "code",
   "execution_count": 22,
   "metadata": {},
   "outputs": [
    {
     "name": "stdout",
     "output_type": "stream",
     "text": [
      "<class 'pandas.core.frame.DataFrame'>\n",
      "RangeIndex: 5558 entries, 0 to 5557\n",
      "Data columns (total 9 columns):\n",
      " #   Column           Non-Null Count  Dtype  \n",
      "---  ------           --------------  -----  \n",
      " 0   GeoAreaCode      5558 non-null   int64  \n",
      " 1   GeoAreaName      5558 non-null   object \n",
      " 2   TimePeriod       5558 non-null   int64  \n",
      " 3   Value            5558 non-null   float64\n",
      " 4   Time_Detail      5558 non-null   int64  \n",
      " 5   Source           5558 non-null   object \n",
      " 6   Education level  5558 non-null   object \n",
      " 7   Sex              5558 non-null   object \n",
      " 8   Type of skill    5558 non-null   object \n",
      "dtypes: float64(1), int64(3), object(5)\n",
      "memory usage: 390.9+ KB\n"
     ]
    }
   ],
   "source": [
    "data_411.info()"
   ]
  },
  {
   "cell_type": "code",
   "execution_count": 23,
   "metadata": {},
   "outputs": [
    {
     "data": {
      "text/plain": [
       "GeoAreaCode         143\n",
       "GeoAreaName         143\n",
       "TimePeriod           23\n",
       "Value              5182\n",
       "Time_Detail          23\n",
       "Source               30\n",
       "Education level       3\n",
       "Sex                   3\n",
       "Type of skill         2\n",
       "dtype: int64"
      ]
     },
     "execution_count": 23,
     "metadata": {},
     "output_type": "execute_result"
    }
   ],
   "source": [
    "data_411.nunique()"
   ]
  },
  {
   "cell_type": "code",
   "execution_count": 24,
   "metadata": {},
   "outputs": [
    {
     "data": {
      "text/plain": [
       "True"
      ]
     },
     "execution_count": 24,
     "metadata": {},
     "output_type": "execute_result"
    }
   ],
   "source": [
    "# find out if 2 colomns have the same values\n",
    "data_411[\"TimePeriod\"].equals(data_411[\"Time_Detail\"])"
   ]
  },
  {
   "cell_type": "code",
   "execution_count": 34,
   "metadata": {},
   "outputs": [],
   "source": [
    "# drop one of the columns\n",
    "data_411.drop(columns=\"Time_Detail\", inplace=True)"
   ]
  },
  {
   "cell_type": "code",
   "execution_count": 25,
   "metadata": {},
   "outputs": [
    {
     "data": {
      "text/plain": [
       "0"
      ]
     },
     "execution_count": 25,
     "metadata": {},
     "output_type": "execute_result"
    }
   ],
   "source": [
    "# check duplicates\n",
    "data_411.duplicated().sum()"
   ]
  },
  {
   "cell_type": "code",
   "execution_count": 26,
   "metadata": {},
   "outputs": [
    {
     "data": {
      "text/plain": [
       "GeoAreaCode        0\n",
       "GeoAreaName        0\n",
       "TimePeriod         0\n",
       "Value              0\n",
       "Time_Detail        0\n",
       "Source             0\n",
       "Education level    0\n",
       "Sex                0\n",
       "Type of skill      0\n",
       "dtype: int64"
      ]
     },
     "execution_count": 26,
     "metadata": {},
     "output_type": "execute_result"
    }
   ],
   "source": [
    "# check missing values\n",
    "data_411.isnull().sum()"
   ]
  },
  {
   "cell_type": "code",
   "execution_count": 27,
   "metadata": {},
   "outputs": [
    {
     "name": "stdout",
     "output_type": "stream",
     "text": [
      "GeoAreaCode: [  1   8   9  12  31  32  36  40  48  51  56  68  70  72  76  84  96 100\n",
      " 104 108 112 116 120 124 148 152 170 178 180 188 191 192 196 202 203 204\n",
      " 208 214 218 222 233 246 250 266 268 270 275 276 288 300 320 324 340 344\n",
      " 348 352 360 364 372 376 380 384 388 392 398 400 404 410 414 417 418 419\n",
      " 422 426 428 438 440 442 446 450 454 458 470 480 484 496 498 499 504 508\n",
      " 512 513 516 528 554 558 562 578 586 591 600 604 608 616 620 634 642 643\n",
      " 682 686 688 690 702 703 704 705 710 716 724 747 748 752 753 756 760 764\n",
      " 768 780 784 788 792 800 804 807 818 826 834 840 854 858 860 887 894]\n",
      "\n",
      "GeoAreaName: ['World' 'Albania' 'Oceania' 'Algeria' 'Azerbaijan' 'Argentina'\n",
      " 'Australia' 'Austria' 'Bahrain' 'Armenia' 'Belgium'\n",
      " 'Bolivia (Plurinational State of)' 'Bosnia and Herzegovina' 'Botswana'\n",
      " 'Brazil' 'Belize' 'Brunei Darussalam' 'Bulgaria' 'Myanmar' 'Burundi'\n",
      " 'Belarus' 'Cambodia' 'Cameroon' 'Canada' 'Chad' 'Chile' 'Colombia'\n",
      " 'Congo' 'Democratic Republic of the Congo' 'Costa Rica' 'Croatia' 'Cuba'\n",
      " 'Cyprus' 'Sub-Saharan Africa' 'Czechia' 'Benin' 'Denmark'\n",
      " 'Dominican Republic' 'Ecuador' 'El Salvador' 'Estonia' 'Finland' 'France'\n",
      " 'Gabon' 'Georgia' 'Gambia' 'State of Palestine' 'Germany' 'Ghana'\n",
      " 'Greece' 'Guatemala' 'Guinea' 'Honduras'\n",
      " 'China, Hong Kong Special Administrative Region' 'Hungary' 'Iceland'\n",
      " 'Indonesia' 'Iran (Islamic Republic of)' 'Ireland' 'Israel' 'Italy'\n",
      " \"Côte d'Ivoire\" 'Jamaica' 'Japan' 'Kazakhstan' 'Jordan' 'Kenya'\n",
      " 'Republic of Korea' 'Kuwait' 'Kyrgyzstan'\n",
      " \"Lao People's Democratic Republic\" 'Latin America and the Caribbean'\n",
      " 'Lebanon' 'Lesotho' 'Latvia' 'Liechtenstein' 'Lithuania' 'Luxembourg'\n",
      " 'China, Macao Special Administrative Region' 'Madagascar' 'Malawi'\n",
      " 'Malaysia' 'Malta' 'Mauritius' 'Mexico' 'Mongolia' 'Republic of Moldova'\n",
      " 'Montenegro' 'Morocco' 'Mozambique' 'Oman' 'Europe and Northern America'\n",
      " 'Namibia' 'Netherlands (Kingdom of the)' 'New Zealand' 'Nicaragua'\n",
      " 'Niger' 'Norway' 'Pakistan' 'Panama' 'Paraguay' 'Peru' 'Philippines'\n",
      " 'Poland' 'Portugal' 'Qatar' 'Romania' 'Russian Federation' 'Saudi Arabia'\n",
      " 'Senegal' 'Serbia' 'Seychelles' 'Singapore' 'Slovakia' 'Viet Nam'\n",
      " 'Slovenia' 'South Africa' 'Zimbabwe' 'Spain'\n",
      " 'Northern Africa and Western Asia' 'Eswatini' 'Sweden'\n",
      " 'Eastern and South-Eastern Asia' 'Switzerland' 'Syrian Arab Republic'\n",
      " 'Thailand' 'Togo' 'Trinidad and Tobago' 'United Arab Emirates' 'Tunisia'\n",
      " 'Türkiye' 'Uganda' 'Ukraine' 'North Macedonia' 'Egypt'\n",
      " 'United Kingdom of Great Britain and Northern Ireland'\n",
      " 'United Republic of Tanzania' 'United States of America' 'Burkina Faso'\n",
      " 'Uruguay' 'Uzbekistan' 'Yemen' 'Zambia']\n",
      "\n",
      "TimePeriod: [2000 2001 2002 2003 2004 2005 2006 2007 2008 2009 2010 2011 2012 2013\n",
      " 2014 2015 2016 2017 2018 2019 2021 2022 2023]\n",
      "\n",
      "Value: [48.97526 47.31352 62.31563 ... 16.      13.9     15.1    ]\n",
      "\n",
      "Time_Detail: [2000 2001 2002 2003 2004 2005 2006 2007 2008 2009 2010 2011 2012 2013\n",
      " 2014 2015 2016 2017 2018 2019 2021 2022 2023]\n",
      "\n",
      "Source: ['UNESCO Institute for Statistics.  Data extracted on 21 February 2024.'\n",
      " 'Programme for International Student Assessment (PISA). Students achieving at least proficiency Level 2. Modal grade for PISA: http://dx.doi.org/10.1787/888934038799 Data extracted on 21 February 2024.'\n",
      " 'Trends in International Mathematics and Science Study (TIMSS). Students achieving at least Intermediate International Benchmark. Grade 4 Data extracted on 21 February 2024.'\n",
      " 'Progress in International Reading Literacy Study (PIRLS). Students achieving at least low International Benchmark. Grade 4 Data extracted on 21 February 2024.'\n",
      " 'Laboratorio Latinoamericano de Evaluacion de la Calidad de la Educacion (LLECE). Students achieving at least proficiency Level 3. Grade 6 Data extracted on 21 February 2024.'\n",
      " 'Laboratorio Latinoamericano de Evaluacion de la Calidad de la Educacion (LLECE). Students achieving at least proficiency Level 2. Grade 3 Data extracted on 21 February 2024.'\n",
      " 'Trends in International Mathematics and Science Study (TIMSS). Students achieving at least Intermediate International Benchmark. Grade 8 Data extracted on 21 February 2024.'\n",
      " 'Trends in International Mathematics and Science Study (TIMSS). Students achieving at least Intermediate International Benchmark. Grade 4. The results correspond only to Belgium (Flemish) Data extracted on 21 February 2024.'\n",
      " 'Progress in International Reading Literacy Study (PIRLS). Students achieving at least low International Benchmark. Grade 4. The results correspond only to Belgium (Flemish) Data extracted on 21 February 2024.'\n",
      " 'Laboratorio Latinoamericano de Evaluacion de la Calidad de la Educacion (LLECE). Students achieving at least proficiency Level 3. Grade 6; Nota aclaratoria: Los datos del Estado Plurinacional de Bolivia corresponden al Diagnostico Nacional realizado en aplicacion de los instrumentos del Tercer Estudio Regional Comparativo y Explicativo (TERCE), mismos que no son estrictamente comparables Data extracted on 21 February 2024.'\n",
      " 'Laboratorio Latinoamericano de Evaluacion de la Calidad de la Educacion (LLECE). Students achieving at least proficiency Level 2. Grade 3; Nota aclaratoria: Los datos del Estado Plurinacional de Bolivia corresponden al Diagnostico Nacional realizado en aplicacion de los instrumentos del Tercer Estudio Regional Comparativo y Explicativo (TERCE), mismos que no son estrictamente comparables Data extracted on 21 February 2024.'\n",
      " 'Southern and Eastern Africa Consortium for Monitoring Educational Quality (SACMEQ). Students achieving at least proficiency Level 5. Grade 6 Data extracted on 21 February 2024.'\n",
      " 'Southern and Eastern Africa Consortium for Monitoring Educational Quality (SACMEQ) IV. Students achieving at least proficiency Level 5. Grade 6 Data extracted on 21 February 2024.'\n",
      " 'Southeast Asia Primary Learning Metrics (SEA-PLM); Grade 5; Minimum proficiency level: Level 6 and above Data extracted on 21 February 2024.'\n",
      " 'CONFEMEN Programme for the Analysis of Education Systems (PASEC). Students achieving at least proficiency Level 3. Grade 2 Data extracted on 21 February 2024.'\n",
      " 'CONFEMEN Programme for the Analysis of Education Systems (PASEC). Students achieving at least proficiency Level 2. Grade 2 Data extracted on 21 February 2024.'\n",
      " 'CONFEMEN Programme for the Analysis of Education Systems (PASEC). Students achieving at least proficiency Level 4. Grade 6 Data extracted on 21 February 2024.'\n",
      " 'CONFEMEN Programme for the Analysis of Education Systems (PASEC). Students achieving at least proficiency Level 3. Grade 6 Data extracted on 21 February 2024.'\n",
      " 'Programme for International Student Assessment (PISA) for Development. Students achieving at least proficiency Level 2. Modal grade for PISA: http://dx.doi.org/10.1787/888934038799 Data extracted on 21 February 2024.'\n",
      " 'Progress in International Reading Literacy Study (PIRLS). Students achieving at least low International Benchmark. Grade 4. The results correspond only to Quebec Data extracted on 21 February 2024.'\n",
      " 'Trends in International Mathematics and Science Study (TIMSS). Students achieving at least Intermediate International Benchmark. TIMSS over PISA was chosen by the country. Grade 8 Data extracted on 21 February 2024.'\n",
      " 'Assessments for Minimum Proficiency Levels (AMPL). Grade 3 Data extracted on 21 February 2024.'\n",
      " 'Assessments for Minimum Proficiency Levels (AMPL). Grade 7 Data extracted on 21 February 2024.'\n",
      " 'Assessments for Minimum Proficiency Levels (AMPL). Grade 6 Data extracted on 21 February 2024.'\n",
      " 'Programme for International Student Assessment (PISA). Students achieving at least proficiency Level 2. Ukrainian regions evaluated (18 of 27). Modal grade for PISA: http://dx.doi.org/10.1787/888934038799 Data extracted on 21 February 2024.'\n",
      " 'Progress in International Reading Literacy Study (PIRLS). Students achieving at least low International Benchmark. Grade 4.  The results correspond only to England Data extracted on 21 February 2024.'\n",
      " 'Trends in International Mathematics and Science Study (TIMSS). Students achieving at least Intermediate International Benchmark. Grade 4. The results correspond only to England Data extracted on 21 February 2024.'\n",
      " 'Southern and Eastern Africa Consortium for Monitoring Educational Quality (SACMEQ) IV. Students achieving at least proficiency Level 5. Grade 6. Tanzania (Zanzibar) Data extracted on 21 February 2024.'\n",
      " 'Assessments for Minimum Proficiency Levels (AMPL). Grade 5 Data extracted on 21 February 2024.'\n",
      " 'Assessments for Minimum Proficiency Levels (AMPL). Grade 4 Data extracted on 21 February 2024.']\n",
      "\n",
      "Education level: ['PRIMAR' 'LOWSEC' 'GRAD23']\n",
      "\n",
      "Sex: ['BOTHSEX' 'MALE' 'FEMALE']\n",
      "\n",
      "Type of skill: ['SKILL_MATH' 'SKILL_READ']\n",
      "\n"
     ]
    }
   ],
   "source": [
    "# check all the unique values of all columns\n",
    "for col in data_411.columns:\n",
    "    print(f\"{col}: {data_411[col].unique()}\", end=\"\\n\\n\")"
   ]
  },
  {
   "cell_type": "code",
   "execution_count": 28,
   "metadata": {},
   "outputs": [],
   "source": [
    "# show data of Indonesia\n",
    "data_411_indonesia = data_411[data_411[\"GeoAreaName\"] == \"Indonesia\"]"
   ]
  },
  {
   "cell_type": "code",
   "execution_count": 29,
   "metadata": {},
   "outputs": [
    {
     "data": {
      "text/html": [
       "<div>\n",
       "<style scoped>\n",
       "    .dataframe tbody tr th:only-of-type {\n",
       "        vertical-align: middle;\n",
       "    }\n",
       "\n",
       "    .dataframe tbody tr th {\n",
       "        vertical-align: top;\n",
       "    }\n",
       "\n",
       "    .dataframe thead th {\n",
       "        text-align: right;\n",
       "    }\n",
       "</style>\n",
       "<table border=\"1\" class=\"dataframe\">\n",
       "  <thead>\n",
       "    <tr style=\"text-align: right;\">\n",
       "      <th></th>\n",
       "      <th>GeoAreaCode</th>\n",
       "      <th>GeoAreaName</th>\n",
       "      <th>TimePeriod</th>\n",
       "      <th>Value</th>\n",
       "      <th>Time_Detail</th>\n",
       "      <th>Source</th>\n",
       "      <th>Education level</th>\n",
       "      <th>Sex</th>\n",
       "      <th>Type of skill</th>\n",
       "    </tr>\n",
       "  </thead>\n",
       "  <tbody>\n",
       "    <tr>\n",
       "      <th>2261</th>\n",
       "      <td>360</td>\n",
       "      <td>Indonesia</td>\n",
       "      <td>2000</td>\n",
       "      <td>31.30000</td>\n",
       "      <td>2000</td>\n",
       "      <td>Programme for International Student Assessment...</td>\n",
       "      <td>LOWSEC</td>\n",
       "      <td>BOTHSEX</td>\n",
       "      <td>SKILL_READ</td>\n",
       "    </tr>\n",
       "    <tr>\n",
       "      <th>2262</th>\n",
       "      <td>360</td>\n",
       "      <td>Indonesia</td>\n",
       "      <td>2000</td>\n",
       "      <td>25.48000</td>\n",
       "      <td>2000</td>\n",
       "      <td>Programme for International Student Assessment...</td>\n",
       "      <td>LOWSEC</td>\n",
       "      <td>MALE</td>\n",
       "      <td>SKILL_READ</td>\n",
       "    </tr>\n",
       "    <tr>\n",
       "      <th>2263</th>\n",
       "      <td>360</td>\n",
       "      <td>Indonesia</td>\n",
       "      <td>2000</td>\n",
       "      <td>26.47185</td>\n",
       "      <td>2000</td>\n",
       "      <td>Programme for International Student Assessment...</td>\n",
       "      <td>LOWSEC</td>\n",
       "      <td>BOTHSEX</td>\n",
       "      <td>SKILL_MATH</td>\n",
       "    </tr>\n",
       "    <tr>\n",
       "      <th>2264</th>\n",
       "      <td>360</td>\n",
       "      <td>Indonesia</td>\n",
       "      <td>2000</td>\n",
       "      <td>27.21000</td>\n",
       "      <td>2000</td>\n",
       "      <td>Programme for International Student Assessment...</td>\n",
       "      <td>LOWSEC</td>\n",
       "      <td>MALE</td>\n",
       "      <td>SKILL_MATH</td>\n",
       "    </tr>\n",
       "    <tr>\n",
       "      <th>2265</th>\n",
       "      <td>360</td>\n",
       "      <td>Indonesia</td>\n",
       "      <td>2000</td>\n",
       "      <td>36.93000</td>\n",
       "      <td>2000</td>\n",
       "      <td>Programme for International Student Assessment...</td>\n",
       "      <td>LOWSEC</td>\n",
       "      <td>FEMALE</td>\n",
       "      <td>SKILL_READ</td>\n",
       "    </tr>\n",
       "  </tbody>\n",
       "</table>\n",
       "</div>"
      ],
      "text/plain": [
       "      GeoAreaCode GeoAreaName  TimePeriod     Value  Time_Detail  \\\n",
       "2261          360   Indonesia        2000  31.30000         2000   \n",
       "2262          360   Indonesia        2000  25.48000         2000   \n",
       "2263          360   Indonesia        2000  26.47185         2000   \n",
       "2264          360   Indonesia        2000  27.21000         2000   \n",
       "2265          360   Indonesia        2000  36.93000         2000   \n",
       "\n",
       "                                                 Source Education level  \\\n",
       "2261  Programme for International Student Assessment...          LOWSEC   \n",
       "2262  Programme for International Student Assessment...          LOWSEC   \n",
       "2263  Programme for International Student Assessment...          LOWSEC   \n",
       "2264  Programme for International Student Assessment...          LOWSEC   \n",
       "2265  Programme for International Student Assessment...          LOWSEC   \n",
       "\n",
       "          Sex Type of skill  \n",
       "2261  BOTHSEX    SKILL_READ  \n",
       "2262     MALE    SKILL_READ  \n",
       "2263  BOTHSEX    SKILL_MATH  \n",
       "2264     MALE    SKILL_MATH  \n",
       "2265   FEMALE    SKILL_READ  "
      ]
     },
     "execution_count": 29,
     "metadata": {},
     "output_type": "execute_result"
    }
   ],
   "source": [
    "data_411_indonesia.head()"
   ]
  },
  {
   "cell_type": "code",
   "execution_count": 30,
   "metadata": {},
   "outputs": [
    {
     "name": "stdout",
     "output_type": "stream",
     "text": [
      "<class 'pandas.core.frame.DataFrame'>\n",
      "RangeIndex: 5558 entries, 0 to 5557\n",
      "Data columns (total 9 columns):\n",
      " #   Column           Non-Null Count  Dtype  \n",
      "---  ------           --------------  -----  \n",
      " 0   GeoAreaCode      5558 non-null   int64  \n",
      " 1   GeoAreaName      5558 non-null   object \n",
      " 2   TimePeriod       5558 non-null   int64  \n",
      " 3   Value            5558 non-null   float64\n",
      " 4   Time_Detail      5558 non-null   int64  \n",
      " 5   Source           5558 non-null   object \n",
      " 6   Education level  5558 non-null   object \n",
      " 7   Sex              5558 non-null   object \n",
      " 8   Type of skill    5558 non-null   object \n",
      "dtypes: float64(1), int64(3), object(5)\n",
      "memory usage: 390.9+ KB\n"
     ]
    }
   ],
   "source": [
    "data_411.info()"
   ]
  },
  {
   "cell_type": "code",
   "execution_count": 31,
   "metadata": {},
   "outputs": [],
   "source": [
    "num_cols= ['GeoAreaCode', 'TimePeriod', 'Value']\n",
    "cat_cols = ['GeoAreaName', 'Source', 'Education level', 'Sex', 'Type of skill']"
   ]
  },
  {
   "cell_type": "code",
   "execution_count": null,
   "metadata": {},
   "outputs": [],
   "source": []
  }
 ],
 "metadata": {
  "kernelspec": {
   "display_name": "base",
   "language": "python",
   "name": "python3"
  },
  "language_info": {
   "codemirror_mode": {
    "name": "ipython",
    "version": 3
   },
   "file_extension": ".py",
   "mimetype": "text/x-python",
   "name": "python",
   "nbconvert_exporter": "python",
   "pygments_lexer": "ipython3",
   "version": "3.12.4"
  }
 },
 "nbformat": 4,
 "nbformat_minor": 2
}
